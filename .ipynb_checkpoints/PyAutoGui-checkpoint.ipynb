{
 "cells": [
  {
   "cell_type": "code",
   "execution_count": 1,
   "id": "8b800085-e6c9-4023-a2e4-783859ea7750",
   "metadata": {},
   "outputs": [],
   "source": [
    "import pyautogui as pg\n",
    "import keyboard\n",
    "import time\n",
    "import pyperclip"
   ]
  },
  {
   "cell_type": "code",
   "execution_count": 24,
   "id": "78cfb8d2-d769-424a-87c1-b98fb4cdda58",
   "metadata": {},
   "outputs": [],
   "source": [
    "time.sleep(5)\n",
    "i=1\n",
    "while i < 6:\n",
    "    pyperclip.copy(i)\n",
    "    time.sleep(0.1)\n",
    "    pg.hotkey('command','v')\n",
    "    time.sleep(0.1)\n",
    "    pg.press('enter', interval = 0.1)\n",
    "    i+=1"
   ]
  },
  {
   "cell_type": "code",
   "execution_count": 5,
   "id": "d98a0448-bfbc-4c20-99bb-a1ee475bf58d",
   "metadata": {},
   "outputs": [
    {
     "name": "stdout",
     "output_type": "stream",
     "text": [
      "Point(x=641, y=598)\n"
     ]
    }
   ],
   "source": [
    "#5초 대기\n",
    "time.sleep(5)\n",
    "\n",
    "#마우스위치\n",
    "print(pg.position())\n",
    "\n",
    "#스크린샷\n",
    "pg.screenshot('sc.ong')\n",
    "\n",
    "#notes.app실행\n",
    "pg.hotkey('command','space')\n",
    "pg.typewrite('notes.app')\n",
    "pg.press('enter')\n",
    "time.sleep(1)\n",
    "pg.hotkey('command', 'n')\n",
    "time.sleep(1)\n",
    "pg.typewrite('hello, world')"
   ]
  },
  {
   "cell_type": "code",
   "execution_count": 5,
   "id": "cf09bf2c-2113-48b5-82de-baa1443bb1b6",
   "metadata": {},
   "outputs": [
    {
     "name": "stdout",
     "output_type": "stream",
     "text": [
      "Collecting opencv-python\n",
      "  Downloading opencv_python-4.7.0.72-cp37-abi3-macosx_10_16_x86_64.whl (53.9 MB)\n",
      "\u001b[2K     \u001b[90m━━━━━━━━━━━━━━━━━━━━━━━━━━━━━━━━━━━━━━━━\u001b[0m \u001b[32m53.9/53.9 MB\u001b[0m \u001b[31m10.7 MB/s\u001b[0m eta \u001b[36m0:00:00\u001b[0m00:01\u001b[0m00:01\u001b[0m\n",
      "\u001b[?25hRequirement already satisfied: numpy>=1.17.3 in /Users/sonnoridev/anaconda3/lib/python3.10/site-packages (from opencv-python) (1.23.5)\n",
      "Installing collected packages: opencv-python\n",
      "Successfully installed opencv-python-4.7.0.72\n",
      "Note: you may need to restart the kernel to use updated packages.\n"
     ]
    }
   ],
   "source": [
    "pip install opencv-python"
   ]
  },
  {
   "cell_type": "code",
   "execution_count": 9,
   "id": "439b5c07-7abe-40be-a005-01f40d95e377",
   "metadata": {},
   "outputs": [],
   "source": [
    "def get_location(img_path):\n",
    "    location = pg.locateCenterOnScreen(img_path)\n",
    "    x, y = location\n",
    "    return x/2, y/2"
   ]
  },
  {
   "cell_type": "code",
   "execution_count": 11,
   "id": "e8e128e7-b5b1-4f2b-9064-bcc51c3492ed",
   "metadata": {},
   "outputs": [],
   "source": [
    "q = get_location('456.png')\n",
    "pg.click(q)"
   ]
  },
  {
   "cell_type": "code",
   "execution_count": null,
   "id": "2527d32c-a2c0-423b-9a8a-2f8f3d9fc5e7",
   "metadata": {},
   "outputs": [],
   "source": []
  }
 ],
 "metadata": {
  "kernelspec": {
   "display_name": "Python 3 (ipykernel)",
   "language": "python",
   "name": "python3"
  },
  "language_info": {
   "codemirror_mode": {
    "name": "ipython",
    "version": 3
   },
   "file_extension": ".py",
   "mimetype": "text/x-python",
   "name": "python",
   "nbconvert_exporter": "python",
   "pygments_lexer": "ipython3",
   "version": "3.10.9"
  }
 },
 "nbformat": 4,
 "nbformat_minor": 5
}
