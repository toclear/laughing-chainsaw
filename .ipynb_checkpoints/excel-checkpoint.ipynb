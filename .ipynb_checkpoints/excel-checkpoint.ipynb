{
 "cells": [
  {
   "cell_type": "code",
   "execution_count": 1,
   "id": "056671b5-11fb-4cce-92bd-a51ec2413fb5",
   "metadata": {},
   "outputs": [
    {
     "data": {
      "text/plain": [
       "['False',\n",
       " 'None',\n",
       " 'True',\n",
       " 'and',\n",
       " 'as',\n",
       " 'assert',\n",
       " 'async',\n",
       " 'await',\n",
       " 'break',\n",
       " 'class',\n",
       " 'continue',\n",
       " 'def',\n",
       " 'del',\n",
       " 'elif',\n",
       " 'else',\n",
       " 'except',\n",
       " 'finally',\n",
       " 'for',\n",
       " 'from',\n",
       " 'global',\n",
       " 'if',\n",
       " 'import',\n",
       " 'in',\n",
       " 'is',\n",
       " 'lambda',\n",
       " 'nonlocal',\n",
       " 'not',\n",
       " 'or',\n",
       " 'pass',\n",
       " 'raise',\n",
       " 'return',\n",
       " 'try',\n",
       " 'while',\n",
       " 'with',\n",
       " 'yield']"
      ]
     },
     "execution_count": 1,
     "metadata": {},
     "output_type": "execute_result"
    }
   ],
   "source": [
    "import keyword\n",
    "keyword.kwlist"
   ]
  },
  {
   "cell_type": "code",
   "execution_count": 2,
   "id": "964b3a32-d808-4cfe-a8d3-8c0043aff9fc",
   "metadata": {},
   "outputs": [
    {
     "name": "stdout",
     "output_type": "stream",
     "text": [
      "Object `def` not found.\n"
     ]
    }
   ],
   "source": [
    "def?"
   ]
  },
  {
   "cell_type": "code",
   "execution_count": 3,
   "id": "a90a39ab-54fa-4707-a0bb-3824407b7070",
   "metadata": {},
   "outputs": [
    {
     "name": "stdout",
     "output_type": "stream",
     "text": [
      "Object `def` not found.\n"
     ]
    }
   ],
   "source": [
    "def??"
   ]
  },
  {
   "cell_type": "code",
   "execution_count": 5,
   "id": "e98bde13-17ef-4d87-8c31-50437ebf835e",
   "metadata": {},
   "outputs": [],
   "source": [
    "import openpyxl"
   ]
  },
  {
   "cell_type": "code",
   "execution_count": 7,
   "id": "60f49d5d-9c8b-4325-848d-68a952f2832f",
   "metadata": {},
   "outputs": [],
   "source": [
    "wb = openpyxl.Workbook()\n",
    "ws = wb.worksheets[0]\n",
    "ws.title = \"wokrsheet\"\n",
    "ws2 = wb.create_sheet('worksheet2')\n",
    "ws2['B2'] = 'cell'\n",
    "filename = \"test.xlsx\"\n",
    "wb.save(filename)"
   ]
  },
  {
   "cell_type": "code",
   "execution_count": 15,
   "id": "3b93dec2-dc4b-46dd-9d01-bb8af9013c0e",
   "metadata": {},
   "outputs": [],
   "source": [
    "ws['B2'] = 'cell'\n",
    "from openpyxl.styles import Alignment, Font, Border, Side, PatternFill\n",
    "align_center = Alignment(horizontal ='center', vertical='center')\n",
    "font_bold = Font(size=12, bold=True, color='000000')\n",
    "fill_blue=PatternFill('solid', fgColor='819FF7')\n",
    "thin_border = Border(left=Side(border_style='thin', color='000000'), right=Side(border_style='thin', color='000000'), top=Side(border_style='thin', color='000000'), bottom=Side(border_style='thin', color='000000'))\n",
    "\n",
    "ws['B2'].alignment = align_center\n",
    "ws['B2'].font = font_bold\n",
    "ws['B2'].fill = fill_blue\n",
    "ws['B2'].border=thin_border\n",
    "ws['B2'].value = 'text'"
   ]
  },
  {
   "cell_type": "code",
   "execution_count": 16,
   "id": "c1923177-28d0-4837-9e0a-99cb72f04770",
   "metadata": {},
   "outputs": [
    {
     "name": "stdout",
     "output_type": "stream",
     "text": [
      "((<Cell 'wokrsheet'.A1>, <Cell 'wokrsheet'.B1>), (<Cell 'wokrsheet'.A2>, <Cell 'wokrsheet'.B2>))\n"
     ]
    }
   ],
   "source": [
    "ws = wb.active\n",
    "my_range=ws['A1':'B2']\n",
    "print(my_range)"
   ]
  },
  {
   "cell_type": "code",
   "execution_count": 17,
   "id": "03bf61a6-e887-4191-bec7-819b7c38420d",
   "metadata": {},
   "outputs": [
    {
     "name": "stdout",
     "output_type": "stream",
     "text": [
      "(<Cell 'wokrsheet'.A1>, <Cell 'wokrsheet'.B1>)\n",
      "(<Cell 'wokrsheet'.A2>, <Cell 'wokrsheet'.B2>)\n"
     ]
    }
   ],
   "source": [
    "for row in my_range:\n",
    "    print(row)"
   ]
  },
  {
   "cell_type": "code",
   "execution_count": 21,
   "id": "a4c69cea-c78a-445e-ae2d-10f375986023",
   "metadata": {},
   "outputs": [],
   "source": [
    "for row in my_range:\n",
    "    for cell in row:\n",
    "        cell.fill=fill_blue\n",
    "        cell.border=thin_border\n",
    "        cell.value='range'\n",
    "wb.save(filename)"
   ]
  },
  {
   "cell_type": "code",
   "execution_count": 24,
   "id": "aa359949-240d-4e76-9943-7f8d102ebc07",
   "metadata": {},
   "outputs": [],
   "source": [
    "ws.append(['first','second','third'])\n",
    "ws.append(['1','2','3'])\n",
    "ws.append([1,2,3])\n",
    "wb.save(filename)"
   ]
  },
  {
   "cell_type": "code",
   "execution_count": 28,
   "id": "a6f10049-d21a-4516-b803-0be546ada7ac",
   "metadata": {},
   "outputs": [],
   "source": [
    "ws.row_dimensions[1].height=30\n",
    "ws.column_dimensions['A'].height=30\n",
    "for row in range(1, 14):\n",
    "    ws.row_dimensions[row].height = 30\n",
    "for col in range(65, 70):\n",
    "    ws.column_dimensions[chr(col)].width = 20\n",
    "\n",
    "ws.merge_cells('c6:d6')\n",
    "\n",
    "import datetime\n",
    "ws['a1'] = datetime.datetime.now()\n",
    "ws['a2'] = datetime.datetime.now().strftime(\"%y-%m-%d %h:%m\")\n",
    "ws['a3'] = datetime.datetime.now().strftime(\"%Y년 %m월 %d일\".encode('unicode-escape').decode()).encode().decode('unicode-escape')\n",
    "wb.save(filename)"
   ]
  },
  {
   "cell_type": "code",
   "execution_count": 36,
   "id": "190a7b9f-adf2-404c-9125-54cbb1327a08",
   "metadata": {},
   "outputs": [
    {
     "name": "stdout",
     "output_type": "stream",
     "text": [
      "2023-04-10 15:43:49.691000 | \n",
      "\n",
      "range | \n",
      "\n",
      "None | \n",
      "\n",
      "None | \n",
      "\n",
      "23-04-10 Apr:04 | \n",
      "\n",
      "range | \n",
      "\n",
      "None | \n",
      "\n",
      "None | \n",
      "\n",
      "2023년 04월 10일 | \n",
      "\n",
      "second | \n",
      "\n",
      "third | \n",
      "\n",
      "None | \n",
      "\n",
      "first | \n",
      "\n",
      "second | \n",
      "\n",
      "third | \n",
      "\n",
      "None | \n",
      "\n",
      "1 | \n",
      "\n",
      "2 | \n",
      "\n",
      "3 | \n",
      "\n",
      "None | \n",
      "\n",
      "1 | \n",
      "\n",
      "2 | \n",
      "\n",
      "3 | \n",
      "\n",
      "None | \n",
      "\n",
      "first | \n",
      "\n",
      "second | \n",
      "\n",
      "third | \n",
      "\n",
      "None | \n",
      "\n",
      "1 | \n",
      "\n",
      "2 | \n",
      "\n",
      "3 | \n",
      "\n",
      "None | \n",
      "\n",
      "1 | \n",
      "\n",
      "2 | \n",
      "\n",
      "3 | \n",
      "\n",
      "None | \n",
      "\n"
     ]
    }
   ],
   "source": [
    "from openpyxl import load_workbook\n",
    "filepath = \"test.xlsx\"\n",
    "wb = load_workbook(filepath)\n",
    "ws = wb.active\n",
    "max_row = ws.max_row\n",
    "max_column = ws.max_column\n",
    "for i in range(1, max_row + 1):\n",
    "    for j in range(1, max_column + 1):\n",
    "        print(ws.cell(row=i, column=j). value, end=' | ')\n",
    "        print('\\n')"
   ]
  },
  {
   "cell_type": "code",
   "execution_count": null,
   "id": "75fab78c-c4fc-47c3-a610-954238a9ac5e",
   "metadata": {},
   "outputs": [],
   "source": []
  }
 ],
 "metadata": {
  "kernelspec": {
   "display_name": "Python 3 (ipykernel)",
   "language": "python",
   "name": "python3"
  },
  "language_info": {
   "codemirror_mode": {
    "name": "ipython",
    "version": 3
   },
   "file_extension": ".py",
   "mimetype": "text/x-python",
   "name": "python",
   "nbconvert_exporter": "python",
   "pygments_lexer": "ipython3",
   "version": "3.10.9"
  }
 },
 "nbformat": 4,
 "nbformat_minor": 5
}
