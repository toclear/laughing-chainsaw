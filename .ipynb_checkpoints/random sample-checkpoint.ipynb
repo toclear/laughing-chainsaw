{
 "cells": [
  {
   "cell_type": "code",
   "execution_count": 2,
   "id": "00fdd072-fba3-4b1e-8254-47311b2ef8c4",
   "metadata": {},
   "outputs": [
    {
     "data": {
      "text/plain": [
       "435"
      ]
     },
     "execution_count": 2,
     "metadata": {},
     "output_type": "execute_result"
    }
   ],
   "source": [
    "i = 0\n",
    "sum = 0\n",
    "while i <= 28:\n",
    "    i += 1\n",
    "    sum += i\n",
    "sum"
   ]
  },
  {
   "cell_type": "code",
   "execution_count": 5,
   "id": "e0540a15-38c4-4a11-a73e-c8b1062c9ebe",
   "metadata": {},
   "outputs": [
    {
     "ename": "NameError",
     "evalue": "name 't1' is not defined",
     "output_type": "error",
     "traceback": [
      "\u001b[0;31m---------------------------------------------------------------------------\u001b[0m",
      "\u001b[0;31mNameError\u001b[0m                                 Traceback (most recent call last)",
      "Cell \u001b[0;32mIn[5], line 3\u001b[0m\n\u001b[1;32m      1\u001b[0m \u001b[38;5;28;01mimport\u001b[39;00m \u001b[38;5;21;01mrandom\u001b[39;00m\n\u001b[1;32m      2\u001b[0m t \u001b[38;5;241m=\u001b[39m random\u001b[38;5;241m.\u001b[39msample(\u001b[38;5;28mrange\u001b[39m(\u001b[38;5;241m20\u001b[39m), \u001b[38;5;241m3\u001b[39m)\n\u001b[0;32m----> 3\u001b[0m \u001b[43mt1\u001b[49m\n",
      "\u001b[0;31mNameError\u001b[0m: name 't1' is not defined"
     ]
    }
   ],
   "source": [
    "import random\n",
    "t = random.sample(range(20), 3)"
   ]
  },
  {
   "cell_type": "code",
   "execution_count": 6,
   "id": "d1ad8297-ebe8-46fd-acdd-ac03c56c6bbf",
   "metadata": {},
   "outputs": [
    {
     "name": "stdout",
     "output_type": "stream",
     "text": [
      "1[1, 5, 7]\n",
      "2[1, 3, 5]\n",
      "3[1, 5, 7]\n",
      "4[3, 5, 7]\n",
      "5[1, 3, 5]\n",
      "6[3, 5, 7]\n",
      "7[1, 5, 7]\n",
      "8[1, 3, 7]\n",
      "9[1, 3, 5]\n",
      "10[1, 3, 7]\n",
      "11[3, 5, 7]\n",
      "12[1, 3, 7]\n",
      "13[1, 5, 7]\n",
      "14[3, 5, 7]\n",
      "15[1, 5, 7]\n",
      "16[1, 3, 7]\n",
      "17[1, 5, 7]\n",
      "18[1, 3, 7]\n",
      "19[3, 5, 7]\n",
      "20[1, 5, 7]\n",
      "21[3, 5, 7]\n",
      "22[1, 5, 7]\n",
      "23[1, 3, 7]\n",
      "24[1, 5, 7]\n",
      "25[1, 3, 5]\n",
      "26[1, 3, 7]\n",
      "27[1, 5, 7]\n",
      "28[1, 3, 7]\n",
      "29[1, 3, 5]\n",
      "30[1, 5, 7]\n",
      "31[1, 3, 5]\n",
      "32[1, 5, 7]\n",
      "33[3, 5, 7]\n",
      "34[1, 3, 7]\n",
      "35[3, 5, 7]\n",
      "36[1, 3, 5]\n",
      "37[1, 5, 7]\n",
      "38[3, 5, 7]\n",
      "39[1, 5, 7]\n",
      "40[3, 5, 7]\n",
      "41[1, 5, 7]\n",
      "42[1, 3, 7]\n",
      "43[1, 5, 7]\n",
      "44[1, 3, 5]\n",
      "45[1, 3, 7]\n",
      "46[1, 3, 5]\n",
      "47[3, 5, 7]\n",
      "48[1, 3, 7]\n",
      "49[1, 3, 5]\n",
      "50[1, 3, 7]\n",
      "51[1, 5, 7]\n",
      "52[1, 3, 5]\n",
      "53[3, 5, 7]\n",
      "54[1, 3, 7]\n",
      "55[1, 5, 7]\n",
      "56[1, 3, 5]\n",
      "57[1, 3, 7]\n",
      "58[1, 5, 7]\n",
      "59[3, 5, 7]\n",
      "60[1, 5, 7]\n",
      "61[1, 3, 5]\n",
      "62[1, 5, 7]\n",
      "63[1, 3, 7]\n",
      "64[1, 3, 5]\n",
      "65[3, 5, 7]\n",
      "66[1, 5, 7]\n",
      "67[1, 3, 7]\n",
      "68[3, 5, 7]\n",
      "69[1, 5, 7]\n",
      "70[1, 3, 7]\n",
      "71[1, 3, 5]\n",
      "72[1, 3, 7]\n",
      "73[3, 5, 7]\n",
      "74[1, 5, 7]\n",
      "75[1, 3, 5]\n",
      "76[1, 3, 7]\n",
      "77[1, 5, 7]\n",
      "78[1, 3, 5]\n",
      "79[3, 5, 7]\n",
      "80[1, 5, 7]\n",
      "81[3, 5, 7]\n",
      "82[1, 3, 7]\n",
      "83[1, 3, 5]\n",
      "84[3, 5, 7]\n",
      "85[1, 3, 5]\n",
      "86[1, 5, 7]\n",
      "87[1, 3, 5]\n",
      "88[1, 3, 7]\n",
      "89[3, 5, 7]\n",
      "90[1, 3, 5]\n",
      "91[1, 3, 7]\n",
      "92[1, 5, 7]\n",
      "93[3, 5, 7]\n",
      "94[1, 3, 7]\n",
      "95[3, 5, 7]\n",
      "96[1, 3, 7]\n",
      "97[3, 5, 7]\n",
      "98[1, 5, 7]\n",
      "99[3, 5, 7]\n",
      "100[1, 3, 5]\n"
     ]
    }
   ],
   "source": [
    "stage = 1\n",
    "t1=0\n",
    "while stage <= 100:\n",
    "    t = random.sample(range(1, 8, 2), 3)\n",
    "    t.sort()\n",
    "    if(t == t1): continue  \n",
    "    stage += 1\n",
    "    print(f'{stage-1}{t}')\n",
    "    t1 = t"
   ]
  },
  {
   "cell_type": "code",
   "execution_count": null,
   "id": "1e938450-d004-44b9-b1b8-8f15aed12937",
   "metadata": {},
   "outputs": [],
   "source": []
  }
 ],
 "metadata": {
  "kernelspec": {
   "display_name": "Python 3 (ipykernel)",
   "language": "python",
   "name": "python3"
  },
  "language_info": {
   "codemirror_mode": {
    "name": "ipython",
    "version": 3
   },
   "file_extension": ".py",
   "mimetype": "text/x-python",
   "name": "python",
   "nbconvert_exporter": "python",
   "pygments_lexer": "ipython3",
   "version": "3.10.9"
  }
 },
 "nbformat": 4,
 "nbformat_minor": 5
}
