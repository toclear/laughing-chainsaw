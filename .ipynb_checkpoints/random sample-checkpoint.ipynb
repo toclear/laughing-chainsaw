{
 "cells": [
  {
   "cell_type": "code",
   "execution_count": 2,
   "id": "00fdd072-fba3-4b1e-8254-47311b2ef8c4",
   "metadata": {},
   "outputs": [
    {
     "data": {
      "text/plain": [
       "435"
      ]
     },
     "execution_count": 2,
     "metadata": {},
     "output_type": "execute_result"
    }
   ],
   "source": [
    "i = 0\n",
    "sum = 0\n",
    "while i <= 28:\n",
    "    i += 1\n",
    "    sum += i\n",
    "sum"
   ]
  },
  {
   "cell_type": "code",
   "execution_count": 1,
   "id": "e0540a15-38c4-4a11-a73e-c8b1062c9ebe",
   "metadata": {},
   "outputs": [],
   "source": [
    "import random\n",
    "t = random.sample(range(20), 3)"
   ]
  },
  {
   "cell_type": "code",
   "execution_count": 2,
   "id": "d1ad8297-ebe8-46fd-acdd-ac03c56c6bbf",
   "metadata": {},
   "outputs": [
    {
     "name": "stdout",
     "output_type": "stream",
     "text": [
      "1[1, 5, 7]\n",
      "2[1, 3, 5]\n",
      "3[1, 5, 7]\n",
      "4[1, 3, 5]\n",
      "5[1, 5, 7]\n",
      "6[1, 3, 5]\n",
      "7[1, 5, 7]\n",
      "8[3, 5, 7]\n",
      "9[1, 5, 7]\n",
      "10[1, 3, 7]\n"
     ]
    }
   ],
   "source": [
    "stage = 1\n",
    "t1=0\n",
    "while stage <= 10:\n",
    "    t = random.sample(range(1, 8, 2), 3)\n",
    "    t.sort()\n",
    "    if(t == t1): continue  \n",
    "    stage += 1\n",
    "    print(f'{stage-1}{t}')\n",
    "    t1 = t"
   ]
  },
  {
   "cell_type": "code",
   "execution_count": 68,
   "id": "94333c67-0f0e-435c-ad9d-96c9af4991c1",
   "metadata": {},
   "outputs": [
    {
     "data": {
      "text/plain": [
       "[1, 2, 3, 5, 6, 7, 8, 9, 10, 11, 12, 13, 14, 15]"
      ]
     },
     "execution_count": 68,
     "metadata": {},
     "output_type": "execute_result"
    }
   ],
   "source": [
    "x=5\n",
    "y=3\n",
    "c=[int(a) for a in range(1, x*y+1)]\n",
    "d=random.choice(c)\n",
    "c.remove(d)\n",
    "c"
   ]
  },
  {
   "cell_type": "code",
   "execution_count": 79,
   "id": "db4a792a-9c49-49ca-83b2-709c282b3dcd",
   "metadata": {
    "tags": []
   },
   "outputs": [
    {
     "data": {
      "text/plain": [
       "[1, 2, 3, 4, 5, 6, 7, 8, 9, 10, 11, 12, 13, 14, 15]"
      ]
     },
     "execution_count": 79,
     "metadata": {},
     "output_type": "execute_result"
    }
   ],
   "source": [
    "x=5\n",
    "y=3\n",
    "c=[int(a) for a in range(1, x*y+1)]\n",
    "c"
   ]
  }
 ],
 "metadata": {
  "kernelspec": {
   "display_name": "Python 3 (ipykernel)",
   "language": "python",
   "name": "python3"
  },
  "language_info": {
   "codemirror_mode": {
    "name": "ipython",
    "version": 3
   },
   "file_extension": ".py",
   "mimetype": "text/x-python",
   "name": "python",
   "nbconvert_exporter": "python",
   "pygments_lexer": "ipython3",
   "version": "3.10.9"
  }
 },
 "nbformat": 4,
 "nbformat_minor": 5
}
