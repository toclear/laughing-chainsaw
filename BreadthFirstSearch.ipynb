{
 "cells": [
  {
   "cell_type": "code",
   "execution_count": 1,
   "id": "2fb2ef4a-7d17-478e-8ddd-272ecdb6f584",
   "metadata": {},
   "outputs": [
    {
     "name": "stdout",
     "output_type": "stream",
     "text": [
      "[1, 2, 3, 4, 5, 6, 7, 8, 9, 10]\n"
     ]
    }
   ],
   "source": [
    "# 위의 그래프를 예시로 삼아서 인접 리스트 방식으로 표현했습니다!\n",
    "graph = {\n",
    "    1: [2, 3, 4],\n",
    "    2: [1, 5],\n",
    "    3: [1, 6, 7],\n",
    "    4: [1, 8],\n",
    "    5: [2, 9],\n",
    "    6: [3, 10],\n",
    "    7: [3],\n",
    "    8: [4],\n",
    "    9: [5],\n",
    "    10: [6]\n",
    "}\n",
    "\n",
    "\n",
    "def bfs_queue(adj_graph, start_node):\n",
    "    queue=[start_node]\n",
    "    visited =[]\n",
    "\n",
    "    while queue:\n",
    "        current_node = queue.pop(0)\n",
    "        visited.append(current_node)\n",
    "        for adjacent_node in adj_graph[current_node]:\n",
    "            if adjacent_node not in visited:\n",
    "                queue.append(adjacent_node)\n",
    "    # 구현해보세요!\n",
    "    return visited\n",
    "\n",
    "\n",
    "\n",
    "print(bfs_queue(graph, 1))  # 1 이 시작노드입니다!\n",
    "# [1, 2, 3, 4, 5, 6, 7, 8, 9, 10] 이 출력되어야 합니다!"
   ]
  },
  {
   "cell_type": "code",
   "execution_count": null,
   "id": "4671dbdc-c1f9-4459-bbde-a7f366e16291",
   "metadata": {},
   "outputs": [],
   "source": []
  }
 ],
 "metadata": {
  "kernelspec": {
   "display_name": "Python 3 (ipykernel)",
   "language": "python",
   "name": "python3"
  },
  "language_info": {
   "codemirror_mode": {
    "name": "ipython",
    "version": 3
   },
   "file_extension": ".py",
   "mimetype": "text/x-python",
   "name": "python",
   "nbconvert_exporter": "python",
   "pygments_lexer": "ipython3",
   "version": "3.10.9"
  }
 },
 "nbformat": 4,
 "nbformat_minor": 5
}
