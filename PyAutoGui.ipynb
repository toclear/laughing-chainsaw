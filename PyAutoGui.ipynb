{
 "cells": [
  {
   "cell_type": "code",
   "execution_count": 20,
   "id": "8b800085-e6c9-4023-a2e4-783859ea7750",
   "metadata": {},
   "outputs": [],
   "source": [
    "import pyautogui as pg\n",
    "import keyboard\n",
    "import time\n",
    "import pyperclip"
   ]
  },
  {
   "cell_type": "code",
   "execution_count": 24,
   "id": "78cfb8d2-d769-424a-87c1-b98fb4cdda58",
   "metadata": {},
   "outputs": [],
   "source": [
    "time.sleep(5)\n",
    "i=1\n",
    "while i < 6:\n",
    "    pyperclip.copy(i)\n",
    "    time.sleep(0.1)\n",
    "    pg.hotkey('command','v')\n",
    "    time.sleep(0.1)\n",
    "    pg.press('enter', interval = 0.1)\n",
    "    i+=1"
   ]
  },
  {
   "cell_type": "code",
   "execution_count": 5,
   "id": "d98a0448-bfbc-4c20-99bb-a1ee475bf58d",
   "metadata": {},
   "outputs": [
    {
     "name": "stdout",
     "output_type": "stream",
     "text": [
      "Point(x=641, y=598)\n"
     ]
    }
   ],
   "source": [
    "#5초 대기\n",
    "time.sleep(5)\n",
    "\n",
    "#마우스위치\n",
    "print(pg.position())\n",
    "\n",
    "#스크린샷\n",
    "pg.screenshot('sc.ong')\n",
    "\n",
    "#notes.app실행\n",
    "pg.hotkey('command','space')\n",
    "pg.typewrite('notes.app')\n",
    "pg.press('enter')\n",
    "time.sleep(1)\n",
    "pg.hotkey('command', 'n')\n",
    "time.sleep(1)\n",
    "pg.typewrite('hello, world')"
   ]
  },
  {
   "cell_type": "code",
   "execution_count": 27,
   "id": "439b5c07-7abe-40be-a005-01f40d95e377",
   "metadata": {},
   "outputs": [],
   "source": [
    "def get_location(img_path):\n",
    "    location = pg.locateCenterOnScreen(img_path)\n",
    "    x, y = location\n",
    "    return x/2, y/2\n",
    "q = get_location('456.png')\n",
    "pg.click(q)"
   ]
  },
  {
   "cell_type": "code",
   "execution_count": null,
   "id": "ad813f1e-9373-4297-9dd2-961d00da57e2",
   "metadata": {},
   "outputs": [],
   "source": [
    "import pyautogui as pg\n",
    "import keyboard\n",
    "import time\n",
    "import pyperclip\n",
    "\n",
    "for i in range(20,36):\n",
    "    pg.click(323, 262)\n",
    "    time.sleep(0.5)\n",
    "    pg.click(323, 262)\n",
    "    time.sleep(0.5)\n",
    "    pg.press('esc', interval = 0.5)\n",
    "    pyperclip.copy(i)\n",
    "    time.sleep(0.5)\n",
    "    pg.hotkey('command','v')\n",
    "    time.sleep(0.1)\n",
    "    pg.press('enter', presses=5, interval = 0.1)\n",
    "    time.sleep(0.3)\n",
    "    \n",
    "    pg.hotkey('command','a')\n",
    "    time.sleep(0.5)\n",
    "    pg.hotkey('command','c')\n",
    "    time.sleep(0.5)\n",
    "    \n",
    "    pg.click(1881, 41)\n",
    "    time.sleep(0.1)\n",
    "    pg.click(912, 220)\n",
    "    time.sleep(0.1)\n",
    "    pg.hotkey('command', 'option', 'v')\n",
    "    time.sleep(0.5)\n",
    "    pg.click(x=958, y=333)\n",
    "    time.sleep(0.5)\n",
    "    pg.press('enter', interval= 0.2)\n",
    "    pg.hotkey('command', 'down')\n",
    "    time.sleep(0.3)\n",
    "    pg.press('down', presses=6, interval = 0.1)\n",
    "    time.sleep(1)"
   ]
  }
 ],
 "metadata": {
  "kernelspec": {
   "display_name": "Python 3 (ipykernel)",
   "language": "python",
   "name": "python3"
  },
  "language_info": {
   "codemirror_mode": {
    "name": "ipython",
    "version": 3
   },
   "file_extension": ".py",
   "mimetype": "text/x-python",
   "name": "python",
   "nbconvert_exporter": "python",
   "pygments_lexer": "ipython3",
   "version": "3.10.9"
  }
 },
 "nbformat": 4,
 "nbformat_minor": 5
}
