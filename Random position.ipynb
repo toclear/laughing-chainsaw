{
 "cells": [
  {
   "cell_type": "code",
   "execution_count": 1,
   "id": "41c13d41-dd93-4990-85a6-e567de284d6e",
   "metadata": {},
   "outputs": [
    {
     "name": "stdout",
     "output_type": "stream",
     "text": [
      "01 __ 04 __ 03 \n",
      "__ __ __ __ __ \n",
      "05 __ __ __ 02 \n",
      "\n",
      "\n",
      "02 __ 05 __ 03 \n",
      "__ __ __ 04 __ \n",
      "__ __ __ __ 01 \n",
      "\n",
      "\n",
      "__ __ __ __ 04 \n",
      "__ 05 __ 03 __ \n",
      "__ __ 02 __ 01 \n",
      "\n",
      "\n",
      "__ __ 05 __ 01 \n",
      "__ __ __ __ __ \n",
      "04 __ 02 __ 03 \n",
      "\n",
      "\n",
      "02 __ __ __ 04 \n",
      "__ 03 __ __ __ \n",
      "01 __ __ __ 05 \n",
      "\n",
      "\n",
      "__ __ __ __ 03 \n",
      "__ 04 __ __ __ \n",
      "02 __ 05 __ 01 \n",
      "\n",
      "\n",
      "__ __ 04 __ 01 \n",
      "__ 05 __ 03 __ \n",
      "__ __ 02 __ __ \n",
      "\n",
      "\n",
      "01 __ 05 __ 03 \n",
      "__ 04 __ __ __ \n",
      "__ __ 02 __ __ \n",
      "\n",
      "\n",
      "01 __ 03 __ 02 \n",
      "__ __ __ __ __ \n",
      "04 __ 05 __ __ \n",
      "\n",
      "\n",
      "02 __ 01 __ 05 \n",
      "__ __ __ __ __ \n",
      "03 __ 04 __ __ \n",
      "\n",
      "\n"
     ]
    }
   ],
   "source": [
    "import random\n",
    "def position():\n",
    "    x1=5\n",
    "    y1=3\n",
    "    c1=[1,2,3,4,5,6,7,8]\n",
    "    for i in range(y1):\n",
    "        for j in range(x1):\n",
    "            if (i%2==0 and j%2==1) or (i%2==1 and j%2==0):\n",
    "                print(\"__\", end=\" \")\n",
    "            else:\n",
    "                d1 =random.choice(c1)\n",
    "                if d1 > 5:\n",
    "                    print(\"__\", end=\" \")\n",
    "                else:\n",
    "                    print(\"0\"+str(d1), end=\" \")\n",
    "                c1.remove(d1)\n",
    "        print(\"\")\n",
    "    print(\"\")\n",
    "    print(\"\")\n",
    "\n",
    "i=0\n",
    "while i < 10:\n",
    "    position()\n",
    "    i += 1"
   ]
  },
  {
   "cell_type": "code",
   "execution_count": null,
   "id": "de58fd0a-f462-4719-b92d-590b4fc16583",
   "metadata": {},
   "outputs": [],
   "source": []
  }
 ],
 "metadata": {
  "kernelspec": {
   "display_name": "Python 3 (ipykernel)",
   "language": "python",
   "name": "python3"
  },
  "language_info": {
   "codemirror_mode": {
    "name": "ipython",
    "version": 3
   },
   "file_extension": ".py",
   "mimetype": "text/x-python",
   "name": "python",
   "nbconvert_exporter": "python",
   "pygments_lexer": "ipython3",
   "version": "3.10.9"
  }
 },
 "nbformat": 4,
 "nbformat_minor": 5
}
