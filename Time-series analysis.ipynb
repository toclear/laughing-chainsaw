{
 "cells": [
  {
   "cell_type": "code",
   "execution_count": 2,
   "id": "0fa8a50e-309a-4cce-92be-954c40d24fa1",
   "metadata": {},
   "outputs": [
    {
     "data": {
      "text/html": [
       "<div>\n",
       "<style scoped>\n",
       "    .dataframe tbody tr th:only-of-type {\n",
       "        vertical-align: middle;\n",
       "    }\n",
       "\n",
       "    .dataframe tbody tr th {\n",
       "        vertical-align: top;\n",
       "    }\n",
       "\n",
       "    .dataframe thead th {\n",
       "        text-align: right;\n",
       "    }\n",
       "</style>\n",
       "<table border=\"1\" class=\"dataframe\">\n",
       "  <thead>\n",
       "    <tr style=\"text-align: right;\">\n",
       "      <th></th>\n",
       "      <th>스테이지</th>\n",
       "      <th>골드</th>\n",
       "      <th>요구전투력</th>\n",
       "      <th>레벨</th>\n",
       "      <th>전투력</th>\n",
       "      <th>렙업비용</th>\n",
       "    </tr>\n",
       "  </thead>\n",
       "  <tbody>\n",
       "    <tr>\n",
       "      <th>0</th>\n",
       "      <td>1</td>\n",
       "      <td>3.000000</td>\n",
       "      <td>100.000000</td>\n",
       "      <td>1.0</td>\n",
       "      <td>114.869835</td>\n",
       "      <td>111.614108</td>\n",
       "    </tr>\n",
       "    <tr>\n",
       "      <th>1</th>\n",
       "      <td>2</td>\n",
       "      <td>3.311330</td>\n",
       "      <td>121.150411</td>\n",
       "      <td>2.0</td>\n",
       "      <td>131.950791</td>\n",
       "      <td>398.034395</td>\n",
       "    </tr>\n",
       "    <tr>\n",
       "      <th>2</th>\n",
       "      <td>3</td>\n",
       "      <td>5.248334</td>\n",
       "      <td>139.592868</td>\n",
       "      <td>3.0</td>\n",
       "      <td>151.571657</td>\n",
       "      <td>892.912864</td>\n",
       "    </tr>\n",
       "    <tr>\n",
       "      <th>3</th>\n",
       "      <td>4</td>\n",
       "      <td>6.622660</td>\n",
       "      <td>155.942741</td>\n",
       "      <td>4.0</td>\n",
       "      <td>174.110113</td>\n",
       "      <td>1619.749581</td>\n",
       "    </tr>\n",
       "    <tr>\n",
       "      <th>4</th>\n",
       "      <td>5</td>\n",
       "      <td>7.688670</td>\n",
       "      <td>170.626880</td>\n",
       "      <td>5.0</td>\n",
       "      <td>200.000000</td>\n",
       "      <td>2596.664552</td>\n",
       "    </tr>\n",
       "    <tr>\n",
       "      <th>...</th>\n",
       "      <td>...</td>\n",
       "      <td>...</td>\n",
       "      <td>...</td>\n",
       "      <td>...</td>\n",
       "      <td>...</td>\n",
       "      <td>...</td>\n",
       "    </tr>\n",
       "    <tr>\n",
       "      <th>295</th>\n",
       "      <td>296</td>\n",
       "      <td>6098.559664</td>\n",
       "      <td>1842.199749</td>\n",
       "      <td>NaN</td>\n",
       "      <td>NaN</td>\n",
       "      <td>NaN</td>\n",
       "    </tr>\n",
       "    <tr>\n",
       "      <th>296</th>\n",
       "      <td>297</td>\n",
       "      <td>6099.296078</td>\n",
       "      <td>1845.174483</td>\n",
       "      <td>NaN</td>\n",
       "      <td>NaN</td>\n",
       "      <td>NaN</td>\n",
       "    </tr>\n",
       "    <tr>\n",
       "      <th>297</th>\n",
       "      <td>298</td>\n",
       "      <td>6099.933990</td>\n",
       "      <td>1848.089118</td>\n",
       "      <td>NaN</td>\n",
       "      <td>NaN</td>\n",
       "      <td>NaN</td>\n",
       "    </tr>\n",
       "    <tr>\n",
       "      <th>298</th>\n",
       "      <td>299</td>\n",
       "      <td>6100.496668</td>\n",
       "      <td>1850.946033</td>\n",
       "      <td>NaN</td>\n",
       "      <td>NaN</td>\n",
       "      <td>NaN</td>\n",
       "    </tr>\n",
       "    <tr>\n",
       "      <th>299</th>\n",
       "      <td>300</td>\n",
       "      <td>6101.000000</td>\n",
       "      <td>1903.747471</td>\n",
       "      <td>NaN</td>\n",
       "      <td>NaN</td>\n",
       "      <td>NaN</td>\n",
       "    </tr>\n",
       "  </tbody>\n",
       "</table>\n",
       "<p>300 rows × 6 columns</p>\n",
       "</div>"
      ],
      "text/plain": [
       "     스테이지           골드        요구전투력   레벨         전투력         렙업비용\n",
       "0       1     3.000000   100.000000  1.0  114.869835   111.614108\n",
       "1       2     3.311330   121.150411  2.0  131.950791   398.034395\n",
       "2       3     5.248334   139.592868  3.0  151.571657   892.912864\n",
       "3       4     6.622660   155.942741  4.0  174.110113  1619.749581\n",
       "4       5     7.688670   170.626880  5.0  200.000000  2596.664552\n",
       "..    ...          ...          ...  ...         ...          ...\n",
       "295   296  6098.559664  1842.199749  NaN         NaN          NaN\n",
       "296   297  6099.296078  1845.174483  NaN         NaN          NaN\n",
       "297   298  6099.933990  1848.089118  NaN         NaN          NaN\n",
       "298   299  6100.496668  1850.946033  NaN         NaN          NaN\n",
       "299   300  6101.000000  1903.747471  NaN         NaN          NaN\n",
       "\n",
       "[300 rows x 6 columns]"
      ]
     },
     "execution_count": 2,
     "metadata": {},
     "output_type": "execute_result"
    }
   ],
   "source": [
    "import pandas as pd\n",
    "import numpy as np\n",
    "df = pd.read_excel('123.xlsx')\n",
    "df"
   ]
  },
  {
   "cell_type": "code",
   "execution_count": 3,
   "id": "126586c5-6606-493c-8604-585d35fb6472",
   "metadata": {},
   "outputs": [
    {
     "name": "stdout",
     "output_type": "stream",
     "text": [
      "1번 2스테이지 진행. 보유골드 3.0\n",
      "2번 2스테이지 진행. 보유골드 6.311329952303792\n",
      "3번 2스테이지 진행. 보유골드 9.622659904607584\n",
      "4번 2스테이지 진행. 보유골드 12.933989856911376\n",
      "5번 2스테이지 진행. 보유골드 16.245319809215168\n",
      "6번 2스테이지 진행. 보유골드 19.556649761518962\n",
      "7번 2스테이지 진행. 보유골드 22.867979713822756\n",
      "8번 2스테이지 진행. 보유골드 26.17930966612655\n",
      "9번 2스테이지 진행. 보유골드 29.490639618430343\n",
      "10번 2스테이지 진행. 보유골드 32.80196957073414\n"
     ]
    }
   ],
   "source": [
    "lv=0\n",
    "st=0\n",
    "gold=0\n",
    "i=0\n",
    "y=np.array([])\n",
    "while i<10:\n",
    "    #레벨업가능여부확인후레벨업\n",
    "    if gold >= df['렙업비용'][lv]:\n",
    "        gold -= df['렙업비용'][lv]\n",
    "        lv += 1\n",
    "        print(f'{lv+1}로 레벨업했다')\n",
    "        continue\n",
    "    #회차진행골드획득\n",
    "    gold += df['골드'][st]\n",
    "    \n",
    "    #전투력체크후스테이지진행\n",
    "    if df['전투력'][lv] > df['요구전투력'][st]:\n",
    "        st += 1\n",
    "    i += 1\n",
    "    y = np.append(y, np.array(gold))\n",
    "    print(f'{i}번 {st+1}스테이지 진행. 보유골드 {gold}')"
   ]
  },
  {
   "cell_type": "code",
   "execution_count": 4,
   "id": "986e0948-6e78-4ca4-b835-c5104c3496b3",
   "metadata": {},
   "outputs": [
    {
     "name": "stderr",
     "output_type": "stream",
     "text": [
      "/var/folders/mm/rzx28nr50c7_k6m7v4jb7__r0000gn/T/ipykernel_67654/2945077344.py:3: MatplotlibDeprecationWarning: The seaborn styles shipped by Matplotlib are deprecated since 3.6, as they no longer correspond to the styles shipped by seaborn. However, they will remain available as 'seaborn-v0_8-<style>'. Alternatively, directly use the seaborn API instead.\n",
      "  plt.style.use('seaborn')\n"
     ]
    },
    {
     "data": {
      "image/png": "[encoded data removed]",
      "text/plain": [
       "<Figure size 800x550 with 1 Axes>"
      ]
     },
     "metadata": {},
     "output_type": "display_data"
    }
   ],
   "source": [
    "import matplotlib as mpl\n",
    "import matplotlib.pyplot as plt\n",
    "plt.style.use('seaborn')\n",
    "mpl.rcParams['font.family']='serif'\n",
    "%matplotlib inline\n",
    "x=np.arange(len(y))\n",
    "plt.plot(x,y);"
   ]
  },
  {
   "cell_type": "code",
   "execution_count": null,
   "id": "809e3383-88c0-40c5-9c26-fb80c4ea012a",
   "metadata": {},
   "outputs": [],
   "source": []
  }
 ],
 "metadata": {
  "kernelspec": {
   "display_name": "Python 3 (ipykernel)",
   "language": "python",
   "name": "python3"
  },
  "language_info": {
   "codemirror_mode": {
    "name": "ipython",
    "version": 3
   },
   "file_extension": ".py",
   "mimetype": "text/x-python",
   "name": "python",
   "nbconvert_exporter": "python",
   "pygments_lexer": "ipython3",
   "version": "3.10.9"
  },
  "widgets": {
   "application/vnd.jupyter.widget-state+json": {
    "state": {},
    "version_major": 2,
    "version_minor": 0
   }
  }
 },
 "nbformat": 4,
 "nbformat_minor": 5
}
