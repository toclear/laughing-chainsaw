{
 "cells": [
  {
   "cell_type": "code",
   "execution_count": 28,
   "id": "8a3b3b4f-fa7e-4296-8522-07f7a54c215e",
   "metadata": {},
   "outputs": [],
   "source": [
    "import pandas as pd\n",
    "# 특정 파일이 해당 경로에 존재하는지 알아보기 위하여\n",
    "# os.path.exists() 메서드를 사용하겠습니다.\n",
    "import os\n",
    "# 샘플 데이터 생성\n",
    "day1 = {'날짜': ['2020-01-01', '2020-01-01'], '상품명': ['홈런볼', '초코파이'], '가격': [1500, 3500]}\n",
    "day2 = {'날짜': ['2020-01-02', '2020-01-02'], '상품명': ['홈런볼', '초코파이'], '가격': [1600, 3200]}\n",
    "day3 = {'날짜': ['2020-01-03', '2020-01-03'], '상품명': ['홈런볼', '초코파이'], '가격': [1800, 3700]}\n",
    "\n",
    "df1 = pd.DataFrame(day1)\n",
    "df2 = pd.DataFrame(day2)\n",
    "df3 = pd.DataFrame(day3)\n",
    "\n",
    "with pd.ExcelWriter('output.xlsx', mode='a', if_sheet_exists='replace', engine=\"openpyxl\") as writer:\n",
    "    df2.to_excel(writer, sheet_name='test')"
   ]
  },
  {
   "cell_type": "code",
   "execution_count": 39,
   "id": "427738a0-6189-40f5-bb1b-5e04051ac1bb",
   "metadata": {},
   "outputs": [],
   "source": [
    "# 최초 생성 이후 mode는 append; 새로운 시트를 추가합니다.\n",
    "if not os.path.exists('output.xlsx'):\n",
    "    with pd.ExcelWriter('output.xlsx', mode='w', engine='openpyxl') as writer:\n",
    "        df2.to_excel(writer, index=False)\n",
    "else:\n",
    "    with pd.ExcelWriter('output.xlsx', mode='w+', engine='openpyxl') as writer:\n",
    "        df2.to_excel(writer, index=False)"
   ]
  },
  {
   "cell_type": "code",
   "execution_count": null,
   "id": "ee02da48-9d3f-4f43-866e-36d5dc3bf472",
   "metadata": {},
   "outputs": [],
   "source": []
  }
 ],
 "metadata": {
  "kernelspec": {
   "display_name": "Python 3 (ipykernel)",
   "language": "python",
   "name": "python3"
  },
  "language_info": {
   "codemirror_mode": {
    "name": "ipython",
    "version": 3
   },
   "file_extension": ".py",
   "mimetype": "text/x-python",
   "name": "python",
   "nbconvert_exporter": "python",
   "pygments_lexer": "ipython3",
   "version": "3.10.9"
  }
 },
 "nbformat": 4,
 "nbformat_minor": 5
}
