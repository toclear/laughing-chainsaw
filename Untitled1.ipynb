{
 "cells": [
  {
   "cell_type": "code",
   "execution_count": 1,
   "id": "ae0bd2b4-c77a-4cde-b10d-d62094edc5b1",
   "metadata": {},
   "outputs": [
    {
     "data": {
      "text/plain": [
       "0"
      ]
     },
     "execution_count": 1,
     "metadata": {},
     "output_type": "execute_result"
    }
   ],
   "source": [
    "sum = 0\n",
    "sum"
   ]
  },
  {
   "cell_type": "code",
   "execution_count": null,
   "id": "1665c222-fd26-419b-a253-b4a9db4c5206",
   "metadata": {},
   "outputs": [],
   "source": [
    "i = 0\n",
    "while i<28:\n",
    "    sum += 1/round((i+1),3)"
   ]
  },
  {
   "cell_type": "code",
   "execution_count": null,
   "id": "52e1114d-6c07-4988-9929-c43d394d2f09",
   "metadata": {},
   "outputs": [],
   "source": []
  }
 ],
 "metadata": {
  "kernelspec": {
   "display_name": "Python 3 (ipykernel)",
   "language": "python",
   "name": "python3"
  },
  "language_info": {
   "codemirror_mode": {
    "name": "ipython",
    "version": 3
   },
   "file_extension": ".py",
   "mimetype": "text/x-python",
   "name": "python",
   "nbconvert_exporter": "python",
   "pygments_lexer": "ipython3",
   "version": "3.10.9"
  }
 },
 "nbformat": 4,
 "nbformat_minor": 5
}
