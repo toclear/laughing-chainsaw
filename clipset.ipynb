{
 "cells": [
  {
   "cell_type": "code",
   "execution_count": 61,
   "id": "8bd2ce42-cf57-4d9a-b4cf-a6a496536db3",
   "metadata": {},
   "outputs": [
    {
     "data": {
      "text/plain": [
       "{'0',\n",
       " '물 단방향빔 (대)',\n",
       " '물 단방향빔 (소)',\n",
       " '물 단방향빔 (중)',\n",
       " '물 단방향빔 (특대)',\n",
       " '물 확산B (중) 20 X 2',\n",
       " '물 확산C (대) 20 X 2',\n",
       " '물 확산C (특대) 20 X 2',\n",
       " '믈 폭발 5턴',\n",
       " '불 확산A (소)',\n",
       " '불 확산A (소) 20',\n",
       " '불 확산B (중)',\n",
       " '불 확산B (중) 20',\n",
       " '불 확산C (대) 20',\n",
       " '숲 세로빔 (중)',\n",
       " '일반 역장'}"
      ]
     },
     "execution_count": 61,
     "metadata": {},
     "output_type": "execute_result"
    }
   ],
   "source": [
    "import pandas as pd\n",
    "clip_df = pd.read_clipboard( )\n",
    "clip_df\n",
    "NP = clip_df.to_numpy()\n",
    "NP\n",
    "set(np.ravel(NP, order='C'))"
   ]
  },
  {
   "cell_type": "code",
   "execution_count": null,
   "id": "ac797584-a19c-442b-9db9-d9c18a3dcd13",
   "metadata": {},
   "outputs": [],
   "source": []
  }
 ],
 "metadata": {
  "kernelspec": {
   "display_name": "Python 3 (ipykernel)",
   "language": "python",
   "name": "python3"
  },
  "language_info": {
   "codemirror_mode": {
    "name": "ipython",
    "version": 3
   },
   "file_extension": ".py",
   "mimetype": "text/x-python",
   "name": "python",
   "nbconvert_exporter": "python",
   "pygments_lexer": "ipython3",
   "version": "3.10.9"
  }
 },
 "nbformat": 4,
 "nbformat_minor": 5
}
