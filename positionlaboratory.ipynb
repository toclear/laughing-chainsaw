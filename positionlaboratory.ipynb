{
 "cells": [
  {
   "cell_type": "code",
   "execution_count": 7,
   "id": "711d672d-71d0-46d6-9be9-237ab9a3c85f",
   "metadata": {},
   "outputs": [],
   "source": [
    "a=[[0]*i for i in [3,2,1,3,5]]"
   ]
  },
  {
   "cell_type": "code",
   "execution_count": 17,
   "id": "d8cae002-1ec5-401b-bc35-28c1e85a39b2",
   "metadata": {},
   "outputs": [
    {
     "name": "stdout",
     "output_type": "stream",
     "text": [
      "[[1, 2, 3], [1, 2, 4], [1, 2, 5], [1, 2, 6], [1, 2, 7], [1, 2, 8], [1, 3, 4], [1, 3, 5], [1, 3, 6], [1, 3, 7], [1, 3, 8], [1, 4, 5], [1, 4, 6], [1, 4, 7], [1, 4, 8], [1, 5, 6], [1, 5, 7], [1, 5, 8], [1, 6, 7], [1, 6, 8], [1, 7, 8], [2, 3, 4], [2, 3, 5], [2, 3, 6], [2, 3, 7], [2, 3, 8], [2, 4, 5], [2, 4, 6], [2, 4, 7], [2, 4, 8], [2, 5, 6], [2, 5, 7], [2, 5, 8], [2, 6, 7], [2, 6, 8], [2, 7, 8], [3, 4, 5], [3, 4, 6], [3, 4, 7], [3, 4, 8], [3, 5, 6], [3, 5, 7], [3, 5, 8], [3, 6, 7], [3, 6, 8], [3, 7, 8], [4, 5, 6], [4, 5, 7], [4, 5, 8], [4, 6, 7], [4, 6, 8], [4, 7, 8], [5, 6, 7], [5, 6, 8], [5, 7, 8], [6, 7, 8]]\n"
     ]
    }
   ],
   "source": [
    "l = [1, 2, 3, 4, 5, 6, 7, 8]\n",
    "n = len(l)\n",
    "r = 3\n",
    "answer = []\n",
    "def dfs(idx, list):\n",
    "    if len(list) == r:\n",
    "        answer.append(list[:])\n",
    "        return\n",
    "    \n",
    "    for i in range(idx, n):\n",
    "        dfs(i+1, list+[l[i]])\n",
    "\n",
    "dfs(0, [])\n",
    "print(answer)"
   ]
  },
  {
   "cell_type": "code",
   "execution_count": 54,
   "id": "fcfd1a63-b6ff-4c66-8a0d-2752e4c20a70",
   "metadata": {},
   "outputs": [
    {
     "name": "stdout",
     "output_type": "stream",
     "text": [
      "00  __  00  __  00  \n",
      "__  00  __  00  __  \n",
      "00  __  00  __  00  \n"
     ]
    }
   ],
   "source": [
    "l = []\n",
    "for i in range(15):\n",
    "    l.append('__')\n",
    "def printlist(list):\n",
    "    for index, value in enumerate(l, start = 1):\n",
    "        print(value, end = ('  '))\n",
    "        if index %5 == 0:\n",
    "            print(\"\")\n",
    "\n",
    "for i in range(8):\n",
    "    l[2*i] = '00'\n",
    "\n",
    "printlist(l)"
   ]
  },
  {
   "cell_type": "code",
   "execution_count": 10,
   "id": "6e7c69d5-d858-4edd-9e0d-1a14843d6596",
   "metadata": {},
   "outputs": [
    {
     "name": "stdout",
     "output_type": "stream",
     "text": [
      "[[1, 2], [1, 3], [1, 4], [1, 5], [1, 6], [1, 7], [1, 8], [2, 3], [2, 4], [2, 5], [2, 6], [2, 7], [2, 8], [3, 4], [3, 5], [3, 6], [3, 7], [3, 8], [4, 5], [4, 6], [4, 7], [4, 8], [5, 6], [5, 7], [5, 8], [6, 7], [6, 8], [7, 8]]\n"
     ]
    }
   ],
   "source": [
    "l1 = []\n",
    "l = [1, 2, 3, 4, 5, 6, 7, 8]\n",
    "n = len(l)\n",
    "r = 2\n",
    "answer = []\n",
    "\n",
    "def dfs(idx, list):\n",
    "    if len(list) == r:\n",
    "        answer.append(list[:])\n",
    "        return\n",
    "    \n",
    "    for i in range(idx, n):\n",
    "        dfs(i+1, list+[l[i]])\n",
    "\n",
    "dfs(0, [])\n",
    "print(answer)"
   ]
  },
  {
   "cell_type": "code",
   "execution_count": 12,
   "id": "6094f99c-789f-4627-b38c-cdcb95adc554",
   "metadata": {},
   "outputs": [
    {
     "data": {
      "text/plain": [
       "3"
      ]
     },
     "execution_count": 12,
     "metadata": {},
     "output_type": "execute_result"
    }
   ],
   "source": [
    "answer[1][1]"
   ]
  },
  {
   "cell_type": "code",
   "execution_count": 20,
   "id": "36bee4d7-2bed-4c96-9161-bb60f5cf679c",
   "metadata": {},
   "outputs": [],
   "source": [
    "l2 = []\n",
    "for i in range(28):\n",
    "    for j in range(r):\n",
    "        l2.append(answer[i][j])"
   ]
  },
  {
   "cell_type": "code",
   "execution_count": null,
   "id": "f2bc0907-9fbc-400c-878a-4b5bb6b22837",
   "metadata": {},
   "outputs": [],
   "source": []
  }
 ],
 "metadata": {
  "kernelspec": {
   "display_name": "Python 3 (ipykernel)",
   "language": "python",
   "name": "python3"
  },
  "language_info": {
   "codemirror_mode": {
    "name": "ipython",
    "version": 3
   },
   "file_extension": ".py",
   "mimetype": "text/x-python",
   "name": "python",
   "nbconvert_exporter": "python",
   "pygments_lexer": "ipython3",
   "version": "3.10.9"
  }
 },
 "nbformat": 4,
 "nbformat_minor": 5
}
