{
 "cells": [
  {
   "cell_type": "code",
   "execution_count": 2,
   "id": "00fdd072-fba3-4b1e-8254-47311b2ef8c4",
   "metadata": {},
   "outputs": [
    {
     "data": {
      "text/plain": [
       "435"
      ]
     },
     "execution_count": 2,
     "metadata": {},
     "output_type": "execute_result"
    }
   ],
   "source": [
    "i = 0\n",
    "sum = 0\n",
    "while i <= 28:\n",
    "    i += 1\n",
    "    sum += i\n",
    "sum"
   ]
  },
  {
   "cell_type": "code",
   "execution_count": 5,
   "id": "e0540a15-38c4-4a11-a73e-c8b1062c9ebe",
   "metadata": {},
   "outputs": [],
   "source": [
    "import random\n",
    "t = random.sample(range(20), 3)"
   ]
  },
  {
   "cell_type": "code",
   "execution_count": 2,
   "id": "d1ad8297-ebe8-46fd-acdd-ac03c56c6bbf",
   "metadata": {},
   "outputs": [
    {
     "name": "stdout",
     "output_type": "stream",
     "text": [
      "1[1, 5, 7]\n",
      "2[1, 3, 5]\n",
      "3[1, 5, 7]\n",
      "4[1, 3, 5]\n",
      "5[1, 5, 7]\n",
      "6[1, 3, 5]\n",
      "7[1, 5, 7]\n",
      "8[3, 5, 7]\n",
      "9[1, 5, 7]\n",
      "10[1, 3, 7]\n"
     ]
    }
   ],
   "source": [
    "stage = 1\n",
    "t1=0\n",
    "while stage <= 10:\n",
    "    t = random.sample(range(1, 8, 2), 3)\n",
    "    t.sort()\n",
    "    if(t == t1): continue  \n",
    "    stage += 1\n",
    "    print(f'{stage-1}{t}')\n",
    "    t1 = t"
   ]
  },
  {
   "cell_type": "code",
   "execution_count": 68,
   "id": "94333c67-0f0e-435c-ad9d-96c9af4991c1",
   "metadata": {},
   "outputs": [
    {
     "data": {
      "text/plain": [
       "[1, 2, 3, 5, 6, 7, 8, 9, 10, 11, 12, 13, 14, 15]"
      ]
     },
     "execution_count": 68,
     "metadata": {},
     "output_type": "execute_result"
    }
   ],
   "source": [
    "x=5\n",
    "y=3\n",
    "c=[int(a) for a in range(1, x*y+1)]\n",
    "d=random.choice(c)\n",
    "c.remove(d)\n",
    "c"
   ]
  },
  {
   "cell_type": "code",
   "execution_count": 80,
   "id": "db4a792a-9c49-49ca-83b2-709c282b3dcd",
   "metadata": {
    "tags": []
   },
   "outputs": [
    {
     "data": {
      "text/plain": [
       "[1, 2, 3, 4, 5, 6, 7, 8, 9, 10, 11, 12, 13, 14, 15]"
      ]
     },
     "execution_count": 80,
     "metadata": {},
     "output_type": "execute_result"
    }
   ],
   "source": [
    "x=5\n",
    "y=3\n",
    "c=[int(a) for a in range(1, x*y+1)]\n",
    "c"
   ]
  },
  {
   "cell_type": "code",
   "execution_count": 110,
   "id": "ac361eb7-b182-4a0b-b513-55237e808b9a",
   "metadata": {},
   "outputs": [
    {
     "name": "stdout",
     "output_type": "stream",
     "text": [
      "05  11  15  12  02  \n",
      "04  06  10  03  09  \n",
      "07  14  01  08  13  \n"
     ]
    }
   ],
   "source": [
    "import random\n",
    "x = 5\n",
    "y = 3\n",
    "c = [int(a) for a in range(1, x*y+1)]\n",
    "for i in range(y):\n",
    "    for j in range(x):\n",
    "        d = random.choice(c)\n",
    "        if len(str(d)) == 1:\n",
    "            print(\"0\" +  str(d), end=\"  \")\n",
    "        else:\n",
    "            print(str(d), end=\"  \")\n",
    "        c.remove(d)\n",
    "    print(\"\")"
   ]
  },
  {
   "cell_type": "code",
   "execution_count": 128,
   "id": "a9a54dcc-7f3b-4ad2-a0ac-9878b5336b4c",
   "metadata": {},
   "outputs": [
    {
     "name": "stdout",
     "output_type": "stream",
     "text": [
      "__ __ __ __ 02 \n",
      "__ 05 __ 04 __ \n",
      "03 __ 01 __ __ \n"
     ]
    }
   ],
   "source": [
    "x1=5\n",
    "y1=3\n",
    "c1=[1,2,3,4,5,6,7,8]\n",
    "for i in range(y1):\n",
    "    for j in range(x1):\n",
    "        if (i%2==0 and j%2==1) or (i%2==1 and j%2==0):\n",
    "            print(\"__\", end=\" \")\n",
    "        else:\n",
    "            d1 =random.choice(c1)\n",
    "            if d1 > 5:\n",
    "                print(\"__\", end=\" \")\n",
    "            else:\n",
    "                print(\"0\"+str(d1), end=\" \")\n",
    "            c1.remove(d1)\n",
    "    print(\"\")"
   ]
  },
  {
   "cell_type": "code",
   "execution_count": 9,
   "id": "b95e1595-aa04-4fdd-804a-cd6b414758d0",
   "metadata": {},
   "outputs": [],
   "source": [
    "def position():\n",
    "    x1=5\n",
    "    y1=3\n",
    "    c1=[1,2,3,4,5,6,7,8]\n",
    "    for i in range(y1):\n",
    "        for j in range(x1):\n",
    "            if (i%2==0 and j%2==1) or (i%2==1 and j%2==0):\n",
    "                print(\"__\", end=\" \")\n",
    "            else:\n",
    "                d1 =random.choice(c1)\n",
    "                if d1 > 5:\n",
    "                    print(\"__\", end=\" \")\n",
    "                else:\n",
    "                    print(\"0\"+str(d1), end=\" \")\n",
    "                c1.remove(d1)\n",
    "        print(\"\")\n",
    "    print(\"\")\n",
    "    print(\"\")"
   ]
  },
  {
   "cell_type": "code",
   "execution_count": 141,
   "id": "c0cf0543-b7ef-4fe8-8a6a-4497f60dee55",
   "metadata": {},
   "outputs": [
    {
     "name": "stdout",
     "output_type": "stream",
     "text": [
      "03 __ 04 __ 05 \n",
      "__ __ __ 02 __ \n",
      "__ __ 01 __ __ \n"
     ]
    }
   ],
   "source": [
    "position()"
   ]
  },
  {
   "cell_type": "code",
   "execution_count": 10,
   "id": "ec2574aa-d116-4432-b78a-e9927d105e79",
   "metadata": {},
   "outputs": [
    {
     "name": "stdout",
     "output_type": "stream",
     "text": [
      "02 __ 05 __ __ \n",
      "__ __ __ 03 __ \n",
      "__ __ 04 __ 01 \n",
      "\n",
      "\n",
      "03 __ 01 __ 02 \n",
      "__ 05 __ __ __ \n",
      "04 __ __ __ __ \n",
      "\n",
      "\n",
      "01 __ __ __ 03 \n",
      "__ 05 __ 04 __ \n",
      "__ __ __ __ 02 \n",
      "\n",
      "\n",
      "01 __ 04 __ 02 \n",
      "__ 05 __ 03 __ \n",
      "__ __ __ __ __ \n",
      "\n",
      "\n",
      "04 __ __ __ __ \n",
      "__ 02 __ 05 __ \n",
      "03 __ 01 __ __ \n",
      "\n",
      "\n",
      "__ __ __ __ 02 \n",
      "__ 04 __ __ __ \n",
      "03 __ 01 __ 05 \n",
      "\n",
      "\n",
      "04 __ 03 __ __ \n",
      "__ 05 __ 01 __ \n",
      "02 __ __ __ __ \n",
      "\n",
      "\n",
      "__ __ 05 __ __ \n",
      "__ __ __ 03 __ \n",
      "04 __ 01 __ 02 \n",
      "\n",
      "\n",
      "__ __ __ __ 01 \n",
      "__ 04 __ 02 __ \n",
      "__ __ 03 __ 05 \n",
      "\n",
      "\n",
      "__ __ __ __ 04 \n",
      "__ 03 __ 01 __ \n",
      "__ __ 02 __ 05 \n",
      "\n",
      "\n"
     ]
    }
   ],
   "source": [
    "i=0\n",
    "while i < 10:\n",
    "    position()\n",
    "    i += 1"
   ]
  },
  {
   "cell_type": "code",
   "execution_count": null,
   "id": "2e64ec73-e13c-4598-9eae-e4a4bcbd4478",
   "metadata": {},
   "outputs": [],
   "source": []
  }
 ],
 "metadata": {
  "kernelspec": {
   "display_name": "Python 3 (ipykernel)",
   "language": "python",
   "name": "python3"
  },
  "language_info": {
   "codemirror_mode": {
    "name": "ipython",
    "version": 3
   },
   "file_extension": ".py",
   "mimetype": "text/x-python",
   "name": "python",
   "nbconvert_exporter": "python",
   "pygments_lexer": "ipython3",
   "version": "3.10.9"
  }
 },
 "nbformat": 4,
 "nbformat_minor": 5
}
