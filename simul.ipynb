{
 "cells": [
  {
   "cell_type": "code",
   "execution_count": 177,
   "id": "a790b299-f5ca-4240-8458-b8bdcde1bdca",
   "metadata": {},
   "outputs": [
    {
     "name": "stdout",
     "output_type": "stream",
     "text": [
      "전투력 차이 : 100.00\n",
      "보정치 1.95배\n",
      "164476.6\n",
      "158953.2\n",
      "153429.8\n",
      "147906.5\n",
      "142383.1\n",
      "136859.7\n",
      "131336.3\n",
      "125812.9\n",
      "109242.8\n",
      "103719.4\n",
      "98196.0\n",
      "92672.6\n",
      "87149.2\n",
      "81625.9\n",
      "76102.5\n",
      "70579.1\n",
      "65055.7\n",
      "59532.3\n",
      "54008.9\n",
      "48485.5\n",
      "42962.2\n",
      "37438.8\n",
      "31915.4\n",
      "15345.2\n",
      "25대 맞고 죽음\n"
     ]
    }
   ],
   "source": [
    "import random\n",
    "import numpy as np\n",
    "\n",
    "at = 2835\n",
    "ch = 100\n",
    "cd = 300\n",
    "hp = 170000\n",
    "\n",
    "c = at*((1000-ch)/1000 + ch/1000*cd/100)*50 - hp\n",
    "print(f'전투력 차이 : {c:.2f}')\n",
    "cor = np.tanh((c)/80)+1.1\n",
    "print(f'보정치 {cor:.2f}배')\n",
    "\n",
    "def hp_p(hp):\n",
    "    if hp > 0:\n",
    "        print(f'{hp:.1f}')\n",
    "    else:\n",
    "        print(f'{count}대 맞고 죽음')\n",
    "count = 1\n",
    "while hp > 0:\n",
    "\n",
    "    at_c = random.randrange(1, 1001)\n",
    "    if at_c <= ch:\n",
    "        hp -= at*cd/100*cor\n",
    "        hp_p(hp)\n",
    "    else:\n",
    "        hp -= at*cor\n",
    "        hp_p(hp)\n",
    "    count += 1"
   ]
  },
  {
   "cell_type": "code",
   "execution_count": null,
   "id": "9e7605fa-63ed-4235-a44e-9ed414d5684f",
   "metadata": {},
   "outputs": [],
   "source": []
  }
 ],
 "metadata": {
  "kernelspec": {
   "display_name": "Python 3 (ipykernel)",
   "language": "python",
   "name": "python3"
  },
  "language_info": {
   "codemirror_mode": {
    "name": "ipython",
    "version": 3
   },
   "file_extension": ".py",
   "mimetype": "text/x-python",
   "name": "python",
   "nbconvert_exporter": "python",
   "pygments_lexer": "ipython3",
   "version": "3.10.9"
  }
 },
 "nbformat": 4,
 "nbformat_minor": 5
}
